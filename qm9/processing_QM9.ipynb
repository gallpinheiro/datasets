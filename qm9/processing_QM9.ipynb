{
 "cells": [
  {
   "cell_type": "code",
   "execution_count": null,
   "id": "92e1b4c7-9f13-40f8-8e64-e2a76af1c02d",
   "metadata": {},
   "outputs": [],
   "source": [
    "# https://deepchemdata.s3-us-west-1.amazonaws.com/datasets/molnet_publish/qm9.zip\n",
    "# https://ndownloader.figshare.com/files/3195404\n",
    "# https://www.dropbox.com/s/mtgh331m6k6gbw2/qm9-smi.zip?dl=1"
   ]
  },
  {
   "cell_type": "code",
   "execution_count": 1,
   "id": "f8f9ab71-4184-4f04-82a3-ea11b4dd01a6",
   "metadata": {},
   "outputs": [
    {
     "name": "stdout",
     "output_type": "stream",
     "text": [
      "train.HDF5 [MD5]: 006ec4a6d0d05f6f6c13273d1a528167\n",
      "val.HDF5 [MD5]: ebf75b4958a1ac28edf539669093afce\n",
      "test.HDF5 [MD5]: 16c8cf41f417a843066617162434f0af\n"
     ]
    }
   ],
   "source": [
    "import tarfile\n",
    "import hashlib\n",
    "import random\n",
    "import os\n",
    "import numpy as np\n",
    "import h5py\n",
    "\n",
    "\n",
    "def get_MD5(file_path):\n",
    "    hash_md5 = hashlib.md5()\n",
    "    with open(file_path, 'rb') as f:\n",
    "        for chunk in iter(lambda: f.read(4096), b\"\"):\n",
    "            hash_md5.update(chunk)\n",
    "    return hash_md5.hexdigest()\n",
    "\n",
    "def create_tar(input_file, output_file):\n",
    "    with tarfile.open(output_file, 'w:gz') as tar:\n",
    "        tar.add(input_file, arcname=os.path.basename(input_file))\n",
    "\n",
    "HAR2EV = 27.211386246\n",
    "KCALMOL2EV = 0.04336414\n",
    "seed = 1234\n",
    "train=0.7\n",
    "val=0.15\n",
    "test=0.15\n",
    "\n",
    "conversion = np.array([\n",
    "    1., 1., HAR2EV, HAR2EV, HAR2EV, 1., HAR2EV, HAR2EV, HAR2EV, HAR2EV, HAR2EV,\n",
    "    1., KCALMOL2EV, KCALMOL2EV, KCALMOL2EV, KCALMOL2EV, 1., 1., 1.\n",
    "])\n",
    "\n",
    "with open('gdb9.sdf.csv', 'r') as f:\n",
    "    target = [[float(x) for x in line.split(',')[1:20]]\n",
    "              for line in f.read().split('\\n')[1:-1]]\n",
    "    y = np.array(target, dtype=float)\n",
    "    y = np.hstack([y[:, 3:], y[:, :3]])\n",
    "    y = y * conversion.reshape(1, -1)\n",
    "\n",
    "with open('uncharacterized.txt', 'r') as f:\n",
    "    skip = [int(x.split()[0]) - 1 for x in f.read().split('\\n')[9:-2]]\n",
    "\n",
    "# \"GDB_SMILES\" (Col. number: 20), \"B3LYP_SMILES\" (Col. number: 21)\n",
    "with open('smi_qm9.csv', 'r') as f:\n",
    "    lines = f.read().split('\\n')[1:-1]\n",
    "    smiles = [line.split(',')[21] for line in lines]\n",
    "\n",
    "smiles = np.delete(smiles, skip)\n",
    "y = np.delete(y, skip, axis=0)\n",
    "\n",
    "seed = 1234\n",
    "np.random.seed(seed)\n",
    "idxs = np.random.permutation(len(smiles))\n",
    "\n",
    "smiles = smiles[idxs]\n",
    "y = y[idxs]\n",
    "\n",
    "num_lines = len(smiles)\n",
    "train_num = int(num_lines * train)\n",
    "val_num = train_num + int(num_lines * val)\n",
    "\n",
    "train_smiles = smiles[:train_num]\n",
    "val_smiles = smiles[train_num:val_num]\n",
    "test_smiles = smiles[val_num:]\n",
    "\n",
    "train_y = y[:train_num]\n",
    "val_y = y[train_num:val_num]\n",
    "test_y = y[val_num:]\n",
    "\n",
    "with h5py.File('train.HDF5', 'w') as hf:\n",
    "    hf.create_dataset('SMILES', data=train_smiles.tolist())\n",
    "    hf.create_dataset('y', data=train_y)\n",
    "\n",
    "with h5py.File('val.HDF5', 'w') as hf:\n",
    "    hf.create_dataset('SMILES', data=val_smiles.tolist())\n",
    "    hf.create_dataset('y', data=val_y)\n",
    "\n",
    "with h5py.File('test.HDF5', 'w') as hf:\n",
    "    hf.create_dataset('SMILES', data=test_smiles.tolist())\n",
    "    hf.create_dataset('y', data=test_y)\n",
    "\n",
    "for input_file in ['train.HDF5', 'val.HDF5', 'test.HDF5']:\n",
    "    print('{} [MD5]:'.format(input_file), get_MD5(input_file))\n",
    "    create_tar(input_file, '{}.tar.gz'.format(input_file))"
   ]
  }
 ],
 "metadata": {
  "kernelspec": {
   "display_name": "Python 3 (ipykernel)",
   "language": "python",
   "name": "python3"
  },
  "language_info": {
   "codemirror_mode": {
    "name": "ipython",
    "version": 3
   },
   "file_extension": ".py",
   "mimetype": "text/x-python",
   "name": "python",
   "nbconvert_exporter": "python",
   "pygments_lexer": "ipython3",
   "version": "3.9.6"
  }
 },
 "nbformat": 4,
 "nbformat_minor": 5
}
